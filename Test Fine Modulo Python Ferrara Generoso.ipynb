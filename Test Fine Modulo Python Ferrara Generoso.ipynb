{
 "cells": [
  {
   "cell_type": "code",
   "execution_count": 91,
   "id": "831e9bfb-9694-45dd-9e55-f0d2aa67e557",
   "metadata": {},
   "outputs": [],
   "source": [
    "import pandas as pd\n",
    "import csv "
   ]
  },
  {
   "cell_type": "code",
   "execution_count": 92,
   "id": "85a6bfe1-7ea7-4f93-ad6b-44e6cd4bcd01",
   "metadata": {},
   "outputs": [],
   "source": [
    "data= pd.read_csv(\"owid-covid-data.csv\")"
   ]
  },
  {
   "cell_type": "code",
   "execution_count": 93,
   "id": "a7e68a8a-f32e-455c-9814-b1ffb7cea241",
   "metadata": {},
   "outputs": [
    {
     "name": "stdout",
     "output_type": "stream",
     "text": [
      "      iso_code continent location        date  total_cases  new_cases  \\\n",
      "1750  OWID_AFR       NaN   Africa  2021-06-05    4949017.0    15355.0   \n",
      "\n",
      "      new_cases_smoothed  total_deaths  new_deaths  new_deaths_smoothed  ...  \\\n",
      "1750           12484.571      132223.0       277.0              284.286  ...   \n",
      "\n",
      "      male_smokers  handwashing_facilities  hospital_beds_per_thousand  \\\n",
      "1750           NaN                     NaN                         NaN   \n",
      "\n",
      "      life_expectancy  human_development_index    population  \\\n",
      "1750              NaN                      NaN  1.426737e+09   \n",
      "\n",
      "      excess_mortality_cumulative_absolute  excess_mortality_cumulative  \\\n",
      "1750                                   NaN                          NaN   \n",
      "\n",
      "      excess_mortality  excess_mortality_cumulative_per_million  \n",
      "1750               NaN                                      NaN  \n",
      "\n",
      "[1 rows x 67 columns]\n"
     ]
    }
   ],
   "source": [
    "print(data.sample())"
   ]
  },
  {
   "cell_type": "code",
   "execution_count": 94,
   "id": "458d252b-5fd9-49bf-9b35-c469c5fc113d",
   "metadata": {},
   "outputs": [
    {
     "name": "stdout",
     "output_type": "stream",
     "text": [
      "        total_cases     new_cases  new_cases_smoothed   total_deaths  \\\n",
      "count  3.755000e+03   3973.000000         3953.000000    3675.000000   \n",
      "mean   2.441706e+06   3446.846464         3464.108882   54765.689796   \n",
      "std    4.388854e+06   8324.105439         8034.648212   93066.180969   \n",
      "min    1.000000e+00      0.000000            0.000000       1.000000   \n",
      "25%    5.488100e+04     32.000000           38.286000    2190.500000   \n",
      "50%    1.935200e+05    171.000000          200.571000    3603.000000   \n",
      "75%    1.668431e+06   1258.000000         1295.000000   46624.000000   \n",
      "max    1.308775e+07  71214.000000        46321.000000  258932.000000   \n",
      "\n",
      "        new_deaths  new_deaths_smoothed  total_cases_per_million  \\\n",
      "count  3973.000000          3953.000000              3755.000000   \n",
      "mean     68.521017            68.862833             22067.999061   \n",
      "std     170.140870           164.977438             36673.972441   \n",
      "min       0.000000             0.000000                 0.001000   \n",
      "25%       0.000000             0.429000              1297.581000   \n",
      "50%       3.000000             3.714000              4688.529000   \n",
      "75%      17.000000            17.857000              9167.945000   \n",
      "max    1521.000000          1014.857000            117541.387000   \n",
      "\n",
      "       new_cases_per_million  new_cases_smoothed_per_million  \\\n",
      "count            3973.000000                     3953.000000   \n",
      "mean               33.527064                       33.693685   \n",
      "std                88.359813                       85.025481   \n",
      "min                 0.000000                        0.000000   \n",
      "25%                 1.037000                        1.207000   \n",
      "50%                 4.566000                        4.922000   \n",
      "75%                14.695000                       15.066000   \n",
      "max               996.370000                      777.635000   \n",
      "\n",
      "       total_deaths_per_million  ...  male_smokers  handwashing_facilities  \\\n",
      "count               3675.000000  ...   1511.000000             1511.000000   \n",
      "mean                 338.323806  ...     47.345599               46.269230   \n",
      "std                  428.695925  ...      8.084454               17.877137   \n",
      "min                    0.004000  ...     30.400000               37.746000   \n",
      "25%                   50.736500  ...     51.200000               37.746000   \n",
      "50%                  177.877000  ...     51.200000               37.746000   \n",
      "75%                  196.318500  ...     51.200000               37.746000   \n",
      "max                 1267.979000  ...     51.200000               83.741000   \n",
      "\n",
      "       hospital_beds_per_thousand  life_expectancy  human_development_index  \\\n",
      "count                 2742.000000      2742.000000              2742.000000   \n",
      "mean                     1.715934        72.228957                 0.662701   \n",
      "std                      1.134251         6.697308                 0.137620   \n",
      "min                      0.500000        64.830000                 0.511000   \n",
      "25%                      0.500000        64.830000                 0.511000   \n",
      "50%                      1.900000        76.880000                 0.748000   \n",
      "75%                      2.890000        78.570000                 0.795000   \n",
      "max                      2.890000        78.570000                 0.795000   \n",
      "\n",
      "         population  excess_mortality_cumulative_absolute  \\\n",
      "count  3.973000e+03                             45.000000   \n",
      "mean   4.588508e+08                           9420.017181   \n",
      "std    6.487965e+08                           8165.313483   \n",
      "min    2.842318e+06                           -536.300000   \n",
      "25%    2.842318e+06                            602.800000   \n",
      "50%    4.112877e+07                          10568.399000   \n",
      "75%    1.426737e+09                          16238.499000   \n",
      "max    1.426737e+09                          31062.898000   \n",
      "\n",
      "       excess_mortality_cumulative  excess_mortality  \\\n",
      "count                    45.000000         45.000000   \n",
      "mean                     19.457111         24.006222   \n",
      "std                      14.515375         32.196268   \n",
      "min                     -10.160000        -22.050000   \n",
      "25%                       3.490000          0.300000   \n",
      "50%                      26.360000         13.210000   \n",
      "75%                      31.480000         40.950000   \n",
      "max                      34.730000        120.150000   \n",
      "\n",
      "       excess_mortality_cumulative_per_million  \n",
      "count                                45.000000  \n",
      "mean                               2719.038734  \n",
      "std                                2400.538518  \n",
      "min                                 -86.227040  \n",
      "25%                                  75.212300  \n",
      "50%                                2872.726000  \n",
      "75%                                5461.704000  \n",
      "max                                5841.710000  \n",
      "\n",
      "[8 rows x 62 columns]\n"
     ]
    }
   ],
   "source": [
    "print(data.describe())"
   ]
  },
  {
   "cell_type": "markdown",
   "id": "c7f0c2de-403f-4bab-80dd-6d0e14731b26",
   "metadata": {},
   "source": [
    "## Verifica del set di Dati "
   ]
  },
  {
   "cell_type": "code",
   "execution_count": 95,
   "id": "60cac13d-72d3-40d5-ba2d-7439e3bc0cba",
   "metadata": {},
   "outputs": [
    {
     "name": "stdout",
     "output_type": "stream",
     "text": [
      "il file contiene 3974 righe e 67 colonne.\n",
      "\n",
      "Nel dataset ci sono i seguenti dati:\n",
      "['iso_code', 'continent', 'location', 'date', 'total_cases', 'new_cases', 'new_cases_smoothed', 'total_deaths', 'new_deaths', 'new_deaths_smoothed', 'total_cases_per_million', 'new_cases_per_million', 'new_cases_smoothed_per_million', 'total_deaths_per_million', 'new_deaths_per_million', 'new_deaths_smoothed_per_million', 'reproduction_rate', 'icu_patients', 'icu_patients_per_million', 'hosp_patients', 'hosp_patients_per_million', 'weekly_icu_admissions', 'weekly_icu_admissions_per_million', 'weekly_hosp_admissions', 'weekly_hosp_admissions_per_million', 'total_tests', 'new_tests', 'total_tests_per_thousand', 'new_tests_per_thousand', 'new_tests_smoothed', 'new_tests_smoothed_per_thousand', 'positive_rate', 'tests_per_case', 'tests_units', 'total_vaccinations', 'people_vaccinated', 'people_fully_vaccinated', 'total_boosters', 'new_vaccinations', 'new_vaccinations_smoothed', 'total_vaccinations_per_hundred', 'people_vaccinated_per_hundred', 'people_fully_vaccinated_per_hundred', 'total_boosters_per_hundred', 'new_vaccinations_smoothed_per_million', 'new_people_vaccinated_smoothed', 'new_people_vaccinated_smoothed_per_hundred', 'stringency_index', 'population_density', 'median_age', 'aged_65_older', 'aged_70_older', 'gdp_per_capita', 'extreme_poverty', 'cardiovasc_death_rate', 'diabetes_prevalence', 'female_smokers', 'male_smokers', 'handwashing_facilities', 'hospital_beds_per_thousand', 'life_expectancy', 'human_development_index', 'population', 'excess_mortality_cumulative_absolute', 'excess_mortality_cumulative', 'excess_mortality', 'excess_mortality_cumulative_per_million']\n"
     ]
    }
   ],
   "source": [
    "print(f\"il file contiene {data.shape[0]} righe e {data.shape[1]} colonne.\\n\")\n",
    "print(\"Nel dataset ci sono i seguenti dati:\\n\",list(data.columns), sep=\"\")"
   ]
  },
  {
   "cell_type": "code",
   "execution_count": 96,
   "id": "3bd410eb-b9c1-4101-8946-10a2f4e26b4c",
   "metadata": {},
   "outputs": [],
   "source": [
    "# Esempio di utilizzo\n",
    "file_path = r\"C:\\\\Users\\\\gener\\\\OneDrive\\\\Desktop\\\\owid-covid-data.csv\""
   ]
  },
  {
   "cell_type": "code",
   "execution_count": 97,
   "id": "9035f92d-f192-499b-aba3-b09be36c8ad0",
   "metadata": {},
   "outputs": [],
   "source": [
    "def read_csv(r):\n",
    "    data = []\n",
    "    with open(data, 'r') as file:\n",
    "        reader = csv.reader(file)\n",
    "        for row in reader:\n",
    "            data.append(row)\n",
    "    return data"
   ]
  },
  {
   "cell_type": "code",
   "execution_count": 98,
   "id": "aa1f4028-5fdf-4497-bf14-ae80f0fe4a6e",
   "metadata": {},
   "outputs": [],
   "source": [
    "def get_dataset_dimensions(data):\n",
    "    data = read_csv_file(data)\n",
    "    num_rows = len(data)\n",
    "    num_columns = len(data[0])\n",
    "    header = data[0]\n",
    "    return num_rows, num_columns, header"
   ]
  },
  {
   "cell_type": "code",
   "execution_count": null,
   "id": "1631652a-5455-448d-b3a2-a0401ecae6a3",
   "metadata": {},
   "outputs": [],
   "source": []
  },
  {
   "cell_type": "markdown",
   "id": "4c04d148-c649-4735-aade-06deb10b88fb",
   "metadata": {},
   "source": [
    "## Trovare il totale dei casi per continente"
   ]
  },
  {
   "cell_type": "code",
   "execution_count": 99,
   "id": "ee82e42d-2a14-431e-a0f8-58791be6caf6",
   "metadata": {},
   "outputs": [],
   "source": [
    "def find_total_cases_by_continent():\n",
    "    data = read_csv()\n",
    "    header = data[0]\n",
    "    continent_index = header.index('continent')\n",
    "    total_cases_index = header.index('total_cases')\n",
    "    total_cases_by_continent = {}\n",
    "    for row in data[1:]:\n",
    "        continent = row[continent_index]\n",
    "        if continent:\n",
    "            total_cases = int(row[total_cases_index])\n",
    "            if continent in total_cases_by_continent:\n",
    "                total_cases_by_continent[continent] += total_cases\n",
    "            else:\n",
    "                total_cases_by_continent[continent] = total_cases\n",
    "    return total_cases_by_continent"
   ]
  },
  {
   "cell_type": "code",
   "execution_count": 100,
   "id": "b8158e54-519a-4857-a3f4-865ebc1e5f0d",
   "metadata": {},
   "outputs": [
    {
     "data": {
      "text/plain": [
       "continent\n",
       "Africa      4306119.0\n",
       "Asia      144572293.0\n",
       "Europe    207710860.0\n",
       "Name: total_cases, dtype: float64"
      ]
     },
     "execution_count": 100,
     "metadata": {},
     "output_type": "execute_result"
    }
   ],
   "source": [
    "casi_continente=data.groupby(\"continent\")[\"total_cases\"].sum()\n",
    "casi_continente"
   ]
  },
  {
   "cell_type": "markdown",
   "id": "3717513a-089e-47f1-b793-337f809e31c5",
   "metadata": {},
   "source": [
    "## Confrontare i casi totali tra due continenti"
   ]
  },
  {
   "cell_type": "code",
   "execution_count": 101,
   "id": "26354f72-a1bd-48cd-98c6-f0d6713fe4ed",
   "metadata": {},
   "outputs": [],
   "source": [
    "def calculate_case_statistics(dataset, continent1, continent2):\n",
    "    continent1_cases = dataset.get(continent1, 0)\n",
    "    continent2_cases = dataset.get(continent2, 0)\n",
    "    world_cases = sum(dataset.values())\n",
    "    case_statistics = {\n",
    "        'continent1': {\n",
    "            'min': min(continent1_cases),\n",
    "            'max': max(continent1_cases),\n",
    "            'average': sum(continent1_cases) / len(continent1_cases),\n",
    "            'percentage': (sum(continent1_cases) / world_cases) * 100\n",
    "        },\n",
    "        'continent2': {\n",
    "            'min': min(continent2_cases),\n",
    "            'max': max(continent2_cases),\n",
    "            'average': sum(continent2_cases) / len(continent2_cases),\n",
    "            'percentage': (sum(continent2_cases) / world_cases) * 100\n",
    "        }\n",
    "    }\n",
    "    return case_statistics"
   ]
  },
  {
   "cell_type": "markdown",
   "id": "b7ed4dbb-5ad2-4f87-9f16-1fb31f36396b",
   "metadata": {},
   "source": [
    "### Confrontare i vaccini totali tra due continenti"
   ]
  },
  {
   "cell_type": "code",
   "execution_count": 102,
   "id": "4ac3bdde-cb60-49fa-bb01-3542e2f0e11c",
   "metadata": {},
   "outputs": [],
   "source": [
    "def calculate_vaccination_statistics(dataset, continent1, continent2):\n",
    "    continent1_vaccinations = dataset.get(continent1, 0)\n",
    "    continent2_vaccinations = dataset.get(continent2, 0)\n",
    "    world_vaccinations = sum(dataset.values())\n",
    "    vaccination_statistics = {\n",
    "        'continent1': {\n",
    "            'min': min(continent1_vaccinations),\n",
    "            'max': max(continent1_vaccinations),\n",
    "            'average': sum(continent1_vaccinations) / len(continent1_vaccinations),\n",
    "            'percentage': (sum(continent1_vaccinations) / world_vaccinations) * 100\n",
    "        },\n",
    "        'continent2': {\n",
    "            'min': min(continent2_vaccinations),\n",
    "            'max': max(continent2_vaccinations),\n",
    "            'average': sum(continent2_vaccinations) / len(continent2_vaccinations),\n",
    "            'percentage': (sum(continent2_vaccinations) / world_vaccinations) * 100\n",
    "        }\n",
    "    }\n",
    "    return vaccination_statistics"
   ]
  },
  {
   "cell_type": "code",
   "execution_count": 103,
   "id": "0501f1f0-d4c2-4876-842f-4a458c78989f",
   "metadata": {},
   "outputs": [
    {
     "name": "stdout",
     "output_type": "stream",
     "text": [
      "Dimensioni del dataset:\n",
      "Numero di righe: 311393\n",
      "Numero di colonne: 67\n",
      "Intestazione: ['iso_code', 'continent', 'location', 'date', 'total_cases', 'new_cases', 'new_cases_smoothed', 'total_deaths', 'new_deaths', 'new_deaths_smoothed', 'total_cases_per_million', 'new_cases_per_million', 'new_cases_smoothed_per_million', 'total_deaths_per_million', 'new_deaths_per_million', 'new_deaths_smoothed_per_million', 'reproduction_rate', 'icu_patients', 'icu_patients_per_million', 'hosp_patients', 'hosp_patients_per_million', 'weekly_icu_admissions', 'weekly_icu_admissions_per_million', 'weekly_hosp_admissions', 'weekly_hosp_admissions_per_million', 'total_tests', 'new_tests', 'total_tests_per_thousand', 'new_tests_per_thousand', 'new_tests_smoothed', 'new_tests_smoothed_per_thousand', 'positive_rate', 'tests_per_case', 'tests_units', 'total_vaccinations', 'people_vaccinated', 'people_fully_vaccinated', 'total_boosters', 'new_vaccinations', 'new_vaccinations_smoothed', 'total_vaccinations_per_hundred', 'people_vaccinated_per_hundred', 'people_fully_vaccinated_per_hundred', 'total_boosters_per_hundred', 'new_vaccinations_smoothed_per_million', 'new_people_vaccinated_smoothed', 'new_people_vaccinated_smoothed_per_hundred', 'stringency_index', 'population_density', 'median_age', 'aged_65_older', 'aged_70_older', 'gdp_per_capita', 'extreme_poverty', 'cardiovasc_death_rate', 'diabetes_prevalence', 'female_smokers', 'male_smokers', 'handwashing_facilities', 'hospital_beds_per_thousand', 'life_expectancy', 'human_development_index', 'population', 'excess_mortality_cumulative_absolute', 'excess_mortality_cumulative', 'excess_mortality', 'excess_mortality_cumulative_per_million']\n"
     ]
    },
    {
     "ename": "TypeError",
     "evalue": "find_total_cases_by_continent() takes 0 positional arguments but 1 was given",
     "output_type": "error",
     "traceback": [
      "\u001b[1;31m---------------------------------------------------------------------------\u001b[0m",
      "\u001b[1;31mTypeError\u001b[0m                                 Traceback (most recent call last)",
      "Cell \u001b[1;32mIn[103], line 9\u001b[0m\n\u001b[0;32m      6\u001b[0m \u001b[38;5;28mprint\u001b[39m(\u001b[38;5;124m\"\u001b[39m\u001b[38;5;124mIntestazione:\u001b[39m\u001b[38;5;124m\"\u001b[39m, header)\n\u001b[0;32m      8\u001b[0m \u001b[38;5;66;03m# Numero di casi totali per continente\u001b[39;00m\n\u001b[1;32m----> 9\u001b[0m total_cases_by_continent \u001b[38;5;241m=\u001b[39m \u001b[43mfind_total_cases_by_continent\u001b[49m\u001b[43m(\u001b[49m\u001b[43mfile_path\u001b[49m\u001b[43m)\u001b[49m\n\u001b[0;32m     10\u001b[0m \u001b[38;5;28mprint\u001b[39m(\u001b[38;5;124m\"\u001b[39m\u001b[38;5;130;01m\\n\u001b[39;00m\u001b[38;5;124mNumero di casi totali per continente:\u001b[39m\u001b[38;5;124m\"\u001b[39m)\n\u001b[0;32m     11\u001b[0m \u001b[38;5;28;01mfor\u001b[39;00m continent, total_cases \u001b[38;5;129;01min\u001b[39;00m total_cases_by_continent\u001b[38;5;241m.\u001b[39mitems():\n",
      "\u001b[1;31mTypeError\u001b[0m: find_total_cases_by_continent() takes 0 positional arguments but 1 was given"
     ]
    }
   ],
   "source": [
    "# Dimensioni del dataset\n",
    "num_rows, num_columns, header = get_dataset_dimensions(file_path)\n",
    "print(\"Dimensioni del dataset:\")\n",
    "print(\"Numero di righe:\", num_rows)\n",
    "print(\"Numero di colonne:\", num_columns)\n",
    "print(\"Intestazione:\", header)\n",
    "\n",
    "# Numero di casi totali per continente\n",
    "total_cases_by_continent = find_total_cases_by_continent(file_path)\n",
    "print(\"\\nNumero di casi totali per continente:\")\n",
    "for continent, total_cases in total_cases_by_continent.items():\n",
    "    print(continent, \":\", total_cases)\n",
    "\n",
    "# Statistiche sui casi totali per continente\n",
    "case_statistics = calculate_case_statistics(total_cases_by_continent, 'Europe', 'South America')\n",
    "print(\"\\nStatistiche sui casi totali:\")\n",
    "print(\"Europa:\", case_statistics['continent1'])\n",
    "print(\"America del Sud:\", case_statistics['continent2'])\n",
    "\n",
    "# Numero di vaccinazioni totali per continente\n",
    "total_vaccinations_by_continent = find_total_vaccinations_by_continent(file_path)\n",
    "print(\"\\nNumero di vaccinazioni totali per continente:\")\n",
    "for continent, total_vaccinations in total_vaccinations_by_continent.items():\n",
    "    print(continent, \":\", total_vaccinations)\n",
    "\n",
    "# Statistiche sulle vaccinazioni totali per continente\n",
    "vaccination_statistics = calculate_vaccination_statistics(total_vaccinations_by_continent, 'Europe', 'South America')\n",
    "print(\"\\nStatistiche sulle vaccinazioni totali:\")\n",
    "print(\"Europa:\", vaccination_statistics['continent1'])\n",
    "print(\"America del Sud:\", vaccination_statistics['continent2'])\n",
    "\n",
    "# Paragrafo riassuntivo\n",
    "summary_paragraph = \"Europa: minimo casi = {}, massimo casi = {}, media casi = {}, percentuale casi nel mondo = {}%\\n\".format(\n",
    "    case_statistics['continent1']['min'],\n",
    "    case_statistics['continent1']['max'],\n",
    "    case_statistics['continent1']['average'],\n",
    "    case_statistics['continent1']['percentage']\n",
    ")\n",
    "summary_paragraph += \"America del Sud: minimo casi = {}, massimo casi = {}, media casi = {}, percentuale casi nel mondo = {}%\\n\".format(\n",
    "    case_statistics['continent2']['min'],\n",
    "    case_statistics['continent2']['max'],\n",
    "    case_statistics['continent2']['average'],\n",
    "    case_statistics['continent2']['percentage']\n",
    ")\n",
    "summary_paragraph += \"Europa: minimo vaccinazioni = {}, massimo vaccinazioni = {}, media vaccinazioni = {}, percentuale vaccinazioni nel mondo = {}%\\n\".format(\n",
    "    vaccination_statistics['continent1']['min'],\n",
    "    vaccination_statistics['continent1']['max'],\n",
    "    vaccination_statistics['continent1']['average'],\n",
    "    vaccination_statistics['continent1']['percentage']\n",
    ")\n",
    "summary_paragraph += \"America del Sud: minimo vaccinazioni = {}, massimo vaccinazioni = {}, media vaccinazioni = {}, percentuale vaccinazioni nel mondo = {}%\\n\".format(\n",
    "    vaccination_statistics['continent2']['min'],\n",
    "    vaccination_statistics['continent2']['max'],\n",
    "    vaccination_statistics['continent2']['average'],\n",
    "    vaccination_statistics['continent2']['percentage']\n",
    ")\n",
    "print(\"\\nParagrafo riassuntivo:\")\n",
    "print(summary_paragraph)"
   ]
  },
  {
   "cell_type": "code",
   "execution_count": null,
   "id": "8ea4c95c-9ca0-4e97-bec6-aaf9623f739a",
   "metadata": {},
   "outputs": [],
   "source": [
    "def read_csv_file(file_path):\n",
    "    data = []\n",
    "    with open(file_path, 'r') as file:\n",
    "        reader = csv.reader(file)\n",
    "        for row in reader:\n",
    "            data.append(row)\n",
    "    return data\n",
    "\n",
    "def get_dataset_dimensions(file_path):\n",
    "    data = read_csv_file(file_path)\n",
    "    num_rows = len(data)\n",
    "    num_columns = len(data[0])\n",
    "    header = data[0]\n",
    "    return num_rows, num_columns, header\n",
    "\n",
    "def find_total_cases_by_continent(file_path):\n",
    "    data = read_csv_file(file_path)\n",
    "    header = data[0]\n",
    "    continent_index = header.index('continent')\n",
    "    total_cases_index = header.index('total_cases')\n",
    "    total_cases_by_continent = {}\n",
    "    for row in data[1:]:\n",
    "        continent = row[continent_index]\n",
    "        if continent:\n",
    "            total_cases = int(row[total_cases_index])\n",
    "            if continent in total_cases_by_continent:\n",
    "                total_cases_by_continent[continent] += total_cases\n",
    "            else:\n",
    "                total_cases_by_continent[continent] = total_cases\n",
    "    return total_cases_by_continent\n",
    "\n",
    "def calculate_case_statistics(dataset, continent1, continent2):\n",
    "    continent1_cases = dataset.get(continent1, 0)\n",
    "    continent2_cases = dataset.get(continent2, 0)\n",
    "    world_cases = sum(dataset.values())\n",
    "    case_statistics = {\n",
    "        'continent1': {\n",
    "            'min': min(continent1_cases),\n",
    "            'max': max(continent1_cases),\n",
    "            'average': sum(continent1_cases) / len(continent1_cases),\n",
    "            'percentage': (sum(continent1_cases) / world_cases) * 100\n",
    "        },\n",
    "        'continent2': {\n",
    "            'min': min(continent2_cases),\n",
    "            'max': max(continent2_cases),\n",
    "            'average': sum(continent2_cases) / len(continent2_cases),\n",
    "            'percentage': (sum(continent2_cases) / world_cases) * 100\n",
    "        }\n",
    "    }\n",
    "    return case_statistics\n",
    "\n",
    "def find_total_vaccinations_by_continent(file_path):\n",
    "    data = read_csv_file(file_path)\n",
    "    header = data[0]\n",
    "    continent_index = header.index('continent')\n",
    "    total_vaccinations_index = header.index('total_vaccinations')\n",
    "    total_vaccinations_by_continent = {}\n",
    "    for row in data[1:]:\n",
    "        continent = row[continent_index]\n",
    "        if continent:\n",
    "            total_vaccinations = int(row[total_vaccinations_index])\n",
    "            if continent in total_vaccinations_by_continent:\n",
    "                total_vaccinations_by_continent[continent] += total_vaccinations\n",
    "            else:\n",
    "                total_vaccinations_by_continent[continent] = total_vaccinations\n",
    "    return total_vaccinations_by_continent\n",
    "\n",
    "def calculate_vaccination_statistics(dataset, continent1, continent2):\n",
    "    continent1_vaccinations = dataset.get(continent1, 0)\n",
    "    continent2_vaccinations = dataset.get(continent2, 0)\n",
    "    world_vaccinations = sum(dataset.values())\n",
    "    vaccination_statistics = {\n",
    "        'continent1': {\n",
    "            'min': min(continent1_vaccinations),\n",
    "            'max': max(continent1_vaccinations),\n",
    "            'average': sum(continent1_vaccinations) / len(continent1_vaccinations),\n",
    "            'percentage': (sum(continent1_vaccinations) / world_vaccinations) * 100\n",
    "        },\n",
    "        'continent2': {\n",
    "            'min': min(continent2_vaccinations),\n",
    "            'max': max(continent2_vaccinations),\n",
    "            'average': sum(continent2_vaccinations) / len(continent2_vaccinations),\n",
    "            'percentage': (sum(continent2_vaccinations) / world_vaccinations) * 100\n",
    "        }\n",
    "    }\n",
    "    return vaccination_statistics"
   ]
  },
  {
   "cell_type": "code",
   "execution_count": null,
   "id": "5b917a8e-5bc6-46e6-861f-0580b5026b33",
   "metadata": {},
   "outputs": [],
   "source": []
  },
  {
   "cell_type": "code",
   "execution_count": null,
   "id": "8ee8e13d-3cff-435e-a29f-9bc7124613f1",
   "metadata": {},
   "outputs": [],
   "source": []
  }
 ],
 "metadata": {
  "kernelspec": {
   "display_name": "Python 3 (ipykernel)",
   "language": "python",
   "name": "python3"
  },
  "language_info": {
   "codemirror_mode": {
    "name": "ipython",
    "version": 3
   },
   "file_extension": ".py",
   "mimetype": "text/x-python",
   "name": "python",
   "nbconvert_exporter": "python",
   "pygments_lexer": "ipython3",
   "version": "3.10.9"
  }
 },
 "nbformat": 4,
 "nbformat_minor": 5
}
